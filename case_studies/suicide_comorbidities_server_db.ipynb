{
 "cells": [
  {
   "cell_type": "markdown",
   "metadata": {},
   "source": [
    "### Suicide Comorbidities (using Brown MySQL server)\n",
    "\n",
    "This script run a PubMed-Comorbidities pipeline using the following characteristics:\n",
    "\n",
    "* Main MeSH Heading: Colonic Neoplasms\n",
    "* UMLS filtering concept: \"Disease or Syndrome\", \"Mental or Behavioral Dysfunction\" or \"Neoplastic Process\"\n",
    "* Articles analysed: All MEDLINE 2017AA articles tagged with the  as a MeSH Heading. Note that this is equivalent to searching PubMed using [MH:noexp]\n",
    "  Total number of articles found: 63304\n",
    "* UMLS concept filtering: Comorbidities are analysed on all other MeSH descriptors associated with the specified UMLS concepts\n",
    "* This script uses Brown MySQL databases:\n",
    "    * medline\n",
    "    * umls_meta\n",
    "    * pubmed_miner"
   ]
  },
  {
   "cell_type": "code",
   "execution_count": null,
   "metadata": {
    "collapsed": true
   },
   "outputs": [],
   "source": [
    "#Optional for running Step 1. However, sometimes the concurrancy of DatabaBase creates errors. \n",
    "#If that happens, reduce the number of process or comment out the line completely. \n",
    "#The fewer the processes the longer the task. At times I've successfully used 12 workers, at others only 2\n",
    "addprocs(2); "
   ]
  },
  {
   "cell_type": "code",
   "execution_count": null,
   "metadata": {
    "collapsed": true
   },
   "outputs": [],
   "source": [
    "using Revise #used during development to detect changes in module - unknown behavior if using multiple processes\n",
    "using PubMedMiner"
   ]
  },
  {
   "cell_type": "code",
   "execution_count": null,
   "metadata": {
    "collapsed": true
   },
   "outputs": [],
   "source": [
    "#Settings\n",
    "const mh = \"Suicide\"\n",
    "const concepts = (\"Disease or Syndrome\", \"Mental or Behavioral Dysfunction\", \"Neoplastic Process\");"
   ]
  },
  {
   "cell_type": "markdown",
   "metadata": {},
   "source": [
    "## 1. Save related occurrences to database\n",
    "\n",
    "The folllowing code is designed to save to the pubmed_miner database a table containing the list of pmids and mesh descriptors that match the specified filtering criteria."
   ]
  },
  {
   "cell_type": "code",
   "execution_count": null,
   "metadata": {},
   "outputs": [],
   "source": [
    "overwrite = false\n",
    "@time save_semantic_occurrences(mh, concepts...; overwrite = overwrite) "
   ]
  },
  {
   "cell_type": "markdown",
   "metadata": {},
   "source": [
    "## 2. Retrieve results and analyze simple occurrences and co-occurrences"
   ]
  },
  {
   "cell_type": "code",
   "execution_count": null,
   "metadata": {},
   "outputs": [],
   "source": [
    "using FreqTables\n",
    "\n",
    "@time occurrence_df = get_semantic_occurrences_df(mh, concepts...)\n",
    "@time mesh_frequencies = freqtable(occurrence_df, :pmid, :descriptor);\n",
    "\n",
    "info(\"Found \", size(occurrence_df, 1), \" related descriptors\")"
   ]
  },
  {
   "cell_type": "code",
   "execution_count": null,
   "metadata": {},
   "outputs": [],
   "source": [
    "using PlotlyJS\n",
    "using NamedArrays\n",
    "\n",
    "# Visualize frequency \n",
    "topn = 50\n",
    "mesh_counts = vec(sum(mesh_frequencies, 1))\n",
    "count_perm = sortperm(mesh_counts, rev=true)\n",
    "mesh_names = collect(keys(mesh_frequencies.dicts[2]))\n",
    "\n",
    "#traces\n",
    "#most frequent is epilepsy - remove from plot for better scaling\n",
    "freq_trace = PlotlyJS.bar(; x = mesh_names[count_perm[2:topn]], y= mesh_counts[count_perm[2:topn]], marker_color=\"orange\")\n",
    "\n",
    "data = [freq_trace]\n",
    "layout = Layout(;title=\"$(topn)-Most Frequent MeSH \",\n",
    "                 showlegend=false,\n",
    "                 margin= Dict(:t=> 70, :r=> 0, :l=> 50, :b=>200),\n",
    "                 xaxis_tickangle = 90,)\n",
    "plot(data, layout)"
   ]
  },
  {
   "cell_type": "markdown",
   "metadata": {},
   "source": [
    "## 3. Pair Statistics\n",
    "\n",
    "* Mutual information\n",
    "* Chi-Square\n",
    "* Co-occurrance matrix"
   ]
  },
  {
   "cell_type": "code",
   "execution_count": null,
   "metadata": {
    "collapsed": true
   },
   "outputs": [],
   "source": [
    "using BCBIStats.COOccur\n",
    "using StatsBase\n",
    "\n",
    "#co-occurrance matrix - only for topp MeSH \n",
    "# min_frequency = 5 -- alternatively compute topn based on min-frequency\n",
    "top_occ = mesh_frequencies.array[:, count_perm[2:topn]]\n",
    "top_mesh_labels = mesh_names[count_perm[2:topn]]\n",
    "top_occ_sp = sparse(top_occ)\n",
    "top_top_coo_sp = top_occ_sp' * top_occ_sp\n",
    "\n",
    "\n",
    "#Point Mutual Information\n",
    "pmi_sp = BCBIStats.COOccur.pmi_mat(top_top_coo_sp)\n",
    "#chi2\n",
    "top_chi2= BCBIStats.COOccur.chi2_mat(top_occ, min_freq=0);"
   ]
  },
  {
   "cell_type": "code",
   "execution_count": null,
   "metadata": {},
   "outputs": [],
   "source": [
    "# typeof(full(top_chi2))\n",
    "#Display full matrices as heatmaps"
   ]
  },
  {
   "cell_type": "code",
   "execution_count": null,
   "metadata": {},
   "outputs": [],
   "source": [
    "using PlotlyJSFactory\n",
    "\n",
    "p = create_chord_plot(top_coo_sp, labels = top_mesh_labels)\n",
    "relayout!(p, title=\"Co-occurrances between top 50 MeSH terms\")\n",
    "JupyterPlot(p)"
   ]
  },
  {
   "cell_type": "markdown",
   "metadata": {},
   "source": [
    "### Association Rules\n",
    "\n",
    "* Compute using apriori algorithm (eclat version) "
   ]
  },
  {
   "cell_type": "code",
   "execution_count": null,
   "metadata": {
    "collapsed": true
   },
   "outputs": [],
   "source": [
    "using ARules\n",
    "using DataTables"
   ]
  },
  {
   "cell_type": "code",
   "execution_count": null,
   "metadata": {
    "collapsed": true
   },
   "outputs": [],
   "source": [
    "# Remove Epilepsy (set column to 0). Rules of lenght 2 with Epilepsy in it correspond to histogram, \n",
    "# since Epilepsy is ib every transaction\n",
    "mh_occ = convert(BitArray{2}, mesh_frequencies.array)\n",
    "\n",
    "mh_col = mesh_frequencies.dicts[2][mh]\n",
    "mh_occ[:, mh_col] = zeros(size(mh_occ,1))\n",
    "\n",
    "epilepsy_lkup = convert(DataStructures.OrderedDict{String,Int16}, mesh_frequencies.dicts[2]) \n",
    "@time epilepsy_rules = apriori(mh_occ, supp = 0.001, conf = 0.1, maxlen = 9)\n",
    "\n",
    "#Pretty print of rules\n",
    "epilepsy_lkup = Dict(zip(values(mesh_frequencies.dicts[2]), keys(mesh_frequencies.dicts[2])))\n",
    "rules_dt= ARules.rules_to_datatable(epilepsy_rules, epilepsy_lkup, join_str = \" | \");"
   ]
  },
  {
   "cell_type": "code",
   "execution_count": null,
   "metadata": {},
   "outputs": [],
   "source": [
    "println(head(rules_dt))\n",
    "println(\"Found \", size(rules_dt, 1), \" rules\")"
   ]
  },
  {
   "cell_type": "markdown",
   "metadata": {},
   "source": [
    "## Frequent Item Sets"
   ]
  },
  {
   "cell_type": "code",
   "execution_count": null,
   "metadata": {
    "collapsed": true
   },
   "outputs": [],
   "source": [
    "supp_int = round(Int, 0.001 * size(mh_occ, 1))\n",
    "@time root = frequent_item_tree(mh_occ, supp_int, 9);\n",
    "\n",
    "supp_lkup = gen_support_dict(root, size(mh_occ, 1))\n",
    "item_lkup = mesh_frequencies.dicts[2]\n",
    "item_lkup_t = Dict(zip(values(item_lkup), keys(item_lkup)))\n",
    "freq = ARules.suppdict_to_datatable(supp_lkup, item_lkup_t);"
   ]
  },
  {
   "cell_type": "code",
   "execution_count": null,
   "metadata": {},
   "outputs": [],
   "source": [
    "println(head(freq))\n",
    "println(\"Found \", size(freq, 1), \" frequent itemsets\")"
   ]
  },
  {
   "cell_type": "markdown",
   "metadata": {},
   "source": [
    "## Visualization of Frequent Item Sets\n",
    "\n",
    "* Basic visualization of frequent item sets using Sankey diagram (experimental - use with caution)\n",
    "* Future work inclused better layout for more links as well as the ability to dinamically change the number of of itemsets"
   ]
  },
  {
   "cell_type": "code",
   "execution_count": null,
   "metadata": {},
   "outputs": [],
   "source": [
    "function fill_sankey_data!(node, sources, targets, vals)\n",
    "    if length(node.item_ids) >1\n",
    "        push!(sources, node.item_ids[end-1]-1)\n",
    "        push!(targets, node.item_ids[end]-1)\n",
    "        push!(vals, node.supp)\n",
    "    end\n",
    "    if has_children(node)     \n",
    "        for nd in node.children\n",
    "            fill_sankey_data!(nd,  sources, targets, vals)\n",
    "        end\n",
    "    end\n",
    "end"
   ]
  },
  {
   "cell_type": "code",
   "execution_count": null,
   "metadata": {
    "collapsed": true
   },
   "outputs": [],
   "source": [
    "sources = []\n",
    "targets = []\n",
    "vals = []\n",
    "fill_sankey_data!(root, sources, targets, vals);"
   ]
  },
  {
   "cell_type": "code",
   "execution_count": null,
   "metadata": {},
   "outputs": [],
   "source": [
    "# size(sources)\n",
    "topn_links = 50\n",
    "freq_vals_perm = sortperm(vals, rev=true)\n",
    "s = sources[freq_vals_perm[1:topn_links]]\n",
    "t = targets[freq_vals_perm[1:topn_links]]\n",
    "v = vals[freq_vals_perm[1:topn_links]]\n",
    "l = mesh_names\n",
    "\n",
    "println(\"Found, \", length(sources), \"links, showing \", topn_links)"
   ]
  },
  {
   "cell_type": "code",
   "execution_count": null,
   "metadata": {},
   "outputs": [],
   "source": [
    "pad = 1e-7\n",
    "trace=sankey(orientation=\"h\",\n",
    "             node = attr(domain=attr(x=[0,1], y=[0,1]), pad=pad, thickness=pad, line = attr(color=\"black\", width= 0.5),\n",
    "                         label=l), \n",
    "             link = attr(source=s, target=t, value = v))\n",
    "plot([trace])"
   ]
  }
 ],
 "metadata": {
  "kernelspec": {
   "display_name": "Julia 0.6.0",
   "language": "julia",
   "name": "julia-0.6"
  },
  "language_info": {
   "file_extension": ".jl",
   "mimetype": "application/julia",
   "name": "julia",
   "version": "0.6.0"
  }
 },
 "nbformat": 4,
 "nbformat_minor": 2
}
